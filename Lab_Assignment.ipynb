{
 "cells": [
  {
   "cell_type": "markdown",
   "metadata": {},
   "source": [
    "•\tCreate new Jupyter notebook and call it Lab_Assignment_(your group and names)"
   ]
  },
  {
   "cell_type": "markdown",
   "metadata": {},
   "source": [
    "•\tCreate a data frame and call it Nasdaq and load all data from nasdaq dataset and display the results"
   ]
  },
  {
   "cell_type": "code",
   "execution_count": 1,
   "metadata": {},
   "outputs": [
    {
     "data": {
      "text/html": [
       "<div>\n",
       "<style scoped>\n",
       "    .dataframe tbody tr th:only-of-type {\n",
       "        vertical-align: middle;\n",
       "    }\n",
       "\n",
       "    .dataframe tbody tr th {\n",
       "        vertical-align: top;\n",
       "    }\n",
       "\n",
       "    .dataframe thead th {\n",
       "        text-align: right;\n",
       "    }\n",
       "</style>\n",
       "<table border=\"1\" class=\"dataframe\">\n",
       "  <thead>\n",
       "    <tr style=\"text-align: right;\">\n",
       "      <th></th>\n",
       "      <th>Date</th>\n",
       "      <th>Low</th>\n",
       "      <th>Open</th>\n",
       "      <th>Volume</th>\n",
       "      <th>High</th>\n",
       "      <th>Close</th>\n",
       "      <th>Adjusted Close</th>\n",
       "    </tr>\n",
       "  </thead>\n",
       "  <tbody>\n",
       "    <tr>\n",
       "      <th>0</th>\n",
       "      <td>27-09-2005</td>\n",
       "      <td>19.100000</td>\n",
       "      <td>21.049999</td>\n",
       "      <td>961200</td>\n",
       "      <td>21.400000</td>\n",
       "      <td>19.299999</td>\n",
       "      <td>18.194910</td>\n",
       "    </tr>\n",
       "    <tr>\n",
       "      <th>1</th>\n",
       "      <td>28-09-2005</td>\n",
       "      <td>19.200001</td>\n",
       "      <td>NaN</td>\n",
       "      <td>5747900</td>\n",
       "      <td>20.530001</td>\n",
       "      <td>20.500000</td>\n",
       "      <td>19.326199</td>\n",
       "    </tr>\n",
       "    <tr>\n",
       "      <th>2</th>\n",
       "      <td>29-09-2005</td>\n",
       "      <td>20.100000</td>\n",
       "      <td>20.400000</td>\n",
       "      <td>1078200</td>\n",
       "      <td>20.580000</td>\n",
       "      <td>20.209999</td>\n",
       "      <td>19.052801</td>\n",
       "    </tr>\n",
       "    <tr>\n",
       "      <th>3</th>\n",
       "      <td>30-09-2005</td>\n",
       "      <td>20.180000</td>\n",
       "      <td>20.260000</td>\n",
       "      <td>3123300</td>\n",
       "      <td>21.049999</td>\n",
       "      <td>21.010000</td>\n",
       "      <td>19.806999</td>\n",
       "    </tr>\n",
       "    <tr>\n",
       "      <th>4</th>\n",
       "      <td>3/10/2005</td>\n",
       "      <td>20.900000</td>\n",
       "      <td>20.900000</td>\n",
       "      <td>1057900</td>\n",
       "      <td>21.750000</td>\n",
       "      <td>21.500000</td>\n",
       "      <td>20.268938</td>\n",
       "    </tr>\n",
       "    <tr>\n",
       "      <th>...</th>\n",
       "      <td>...</td>\n",
       "      <td>...</td>\n",
       "      <td>...</td>\n",
       "      <td>...</td>\n",
       "      <td>...</td>\n",
       "      <td>...</td>\n",
       "      <td>...</td>\n",
       "    </tr>\n",
       "    <tr>\n",
       "      <th>3897</th>\n",
       "      <td>23-03-2021</td>\n",
       "      <td>22.080000</td>\n",
       "      <td>23.350000</td>\n",
       "      <td>55290700</td>\n",
       "      <td>23.660000</td>\n",
       "      <td>22.270000</td>\n",
       "      <td>22.270000</td>\n",
       "    </tr>\n",
       "    <tr>\n",
       "      <th>3898</th>\n",
       "      <td>24-03-2021</td>\n",
       "      <td>21.760000</td>\n",
       "      <td>22.790001</td>\n",
       "      <td>44703900</td>\n",
       "      <td>23.180000</td>\n",
       "      <td>21.809999</td>\n",
       "      <td>21.809999</td>\n",
       "    </tr>\n",
       "    <tr>\n",
       "      <th>3899</th>\n",
       "      <td>25-03-2021</td>\n",
       "      <td>21.020000</td>\n",
       "      <td>21.250000</td>\n",
       "      <td>49746900</td>\n",
       "      <td>22.920000</td>\n",
       "      <td>22.770000</td>\n",
       "      <td>22.770000</td>\n",
       "    </tr>\n",
       "    <tr>\n",
       "      <th>3900</th>\n",
       "      <td>26-03-2021</td>\n",
       "      <td>22.280001</td>\n",
       "      <td>23.139999</td>\n",
       "      <td>36936000</td>\n",
       "      <td>23.290001</td>\n",
       "      <td>22.930000</td>\n",
       "      <td>22.930000</td>\n",
       "    </tr>\n",
       "    <tr>\n",
       "      <th>3901</th>\n",
       "      <td>29-03-2021</td>\n",
       "      <td>22.400000</td>\n",
       "      <td>23.160000</td>\n",
       "      <td>15969544</td>\n",
       "      <td>23.184999</td>\n",
       "      <td>22.618299</td>\n",
       "      <td>22.618299</td>\n",
       "    </tr>\n",
       "  </tbody>\n",
       "</table>\n",
       "<p>3902 rows × 7 columns</p>\n",
       "</div>"
      ],
      "text/plain": [
       "            Date        Low       Open    Volume       High      Close  \\\n",
       "0     27-09-2005  19.100000  21.049999    961200  21.400000  19.299999   \n",
       "1     28-09-2005  19.200001        NaN   5747900  20.530001  20.500000   \n",
       "2     29-09-2005  20.100000  20.400000   1078200  20.580000  20.209999   \n",
       "3     30-09-2005  20.180000  20.260000   3123300  21.049999  21.010000   \n",
       "4      3/10/2005  20.900000  20.900000   1057900  21.750000  21.500000   \n",
       "...          ...        ...        ...       ...        ...        ...   \n",
       "3897  23-03-2021  22.080000  23.350000  55290700  23.660000  22.270000   \n",
       "3898  24-03-2021  21.760000  22.790001  44703900  23.180000  21.809999   \n",
       "3899  25-03-2021  21.020000  21.250000  49746900  22.920000  22.770000   \n",
       "3900  26-03-2021  22.280001  23.139999  36936000  23.290001  22.930000   \n",
       "3901  29-03-2021  22.400000  23.160000  15969544  23.184999  22.618299   \n",
       "\n",
       "      Adjusted Close  \n",
       "0          18.194910  \n",
       "1          19.326199  \n",
       "2          19.052801  \n",
       "3          19.806999  \n",
       "4          20.268938  \n",
       "...              ...  \n",
       "3897       22.270000  \n",
       "3898       21.809999  \n",
       "3899       22.770000  \n",
       "3900       22.930000  \n",
       "3901       22.618299  \n",
       "\n",
       "[3902 rows x 7 columns]"
      ]
     },
     "execution_count": 1,
     "metadata": {},
     "output_type": "execute_result"
    }
   ],
   "source": [
    "import pandas as pd\n",
    "import matplotlib.pyplot as plt\n",
    "import numpy as np\n",
    "Nasdaq = pd.read_csv('nasdacq.csv')\n",
    "Nasdaq "
   ]
  },
  {
   "cell_type": "markdown",
   "metadata": {},
   "source": [
    "•\tCalculate statistical parameters of  ``open``  and `` close`` columns"
   ]
  },
  {
   "cell_type": "code",
   "execution_count": 2,
   "metadata": {},
   "outputs": [
    {
     "data": {
      "text/plain": [
       "array([19.29999924, 20.5       , 20.20999908, ..., 22.77000046,\n",
       "       22.93000031, 22.61829948])"
      ]
     },
     "execution_count": 2,
     "metadata": {},
     "output_type": "execute_result"
    }
   ],
   "source": [
    "close_data = np.array(Nasdaq['Close'].values)\n",
    "close_data"
   ]
  },
  {
   "cell_type": "code",
   "execution_count": 3,
   "metadata": {},
   "outputs": [
    {
     "name": "stdout",
     "output_type": "stream",
     "text": [
      "Statistical parameters of close: \n",
      "Mean = 26.256993411227317\n",
      "Minimum = 1.75999999\n",
      "Maximum = 62.95000076\n",
      "Range = 61.190000770000005\n",
      "Varience = 272.4591271591911\n",
      "Standard Deviation = 16.50633597014162\n"
     ]
    }
   ],
   "source": [
    "print(\"Statistical parameters of close: \")\n",
    "\n",
    "close_mean = close_data.mean()\n",
    "close_min = close_data.min()\n",
    "close_max = close_data.max()\n",
    "close_range = close_data.ptp()\n",
    "close_varience = close_data.var()\n",
    "close_sd = close_data.std()\n",
    "\n",
    "print(\"Mean =\", close_mean)\n",
    "print(\"Minimum =\", close_min)\n",
    "print(\"Maximum =\", close_max)\n",
    "print(\"Range =\", close_range)\n",
    "print(\"Varience =\", close_varience)\n",
    "print(\"Standard Deviation =\", close_sd)\n"
   ]
  },
  {
   "cell_type": "code",
   "execution_count": 4,
   "metadata": {},
   "outputs": [
    {
     "data": {
      "text/plain": [
       "array([21.04999924,         nan, 20.39999962, ..., 21.25      ,\n",
       "       23.13999939, 23.15999985])"
      ]
     },
     "execution_count": 4,
     "metadata": {},
     "output_type": "execute_result"
    }
   ],
   "source": [
    "open_data = np.array(Nasdaq['Open'].values)\n",
    "open_data"
   ]
  },
  {
   "cell_type": "code",
   "execution_count": 5,
   "metadata": {},
   "outputs": [
    {
     "name": "stdout",
     "output_type": "stream",
     "text": [
      "Statistical parameters of open: \n",
      "Mean = 26.292729157287035\n",
      "Minimum = 1.8099999430000002\n",
      "Maximum = 62.70000076\n",
      "Varience = 272.91996357932567\n",
      "Standard Deviation = 16.520289452044285\n"
     ]
    }
   ],
   "source": [
    "print(\"Statistical parameters of open: \")\n",
    "\n",
    "open_mean = np.nanmean(open_data)\n",
    "open_min = np.nanmin(open_data)\n",
    "open_max = np.nanmax(open_data)\n",
    "open_varience = np.nanvar(open_data)\n",
    "open_sd = np.nanstd(open_data)\n",
    "\n",
    "print(\"Mean =\", open_mean)\n",
    "print(\"Minimum =\", open_min)\n",
    "print(\"Maximum =\", open_max)\n",
    "print(\"Varience =\", open_varience)\n",
    "print(\"Standard Deviation =\", open_sd)"
   ]
  },
  {
   "cell_type": "markdown",
   "metadata": {},
   "source": [
    "•\tRemove all null values in ``open`` column and replace it with the mean of the column"
   ]
  },
  {
   "cell_type": "code",
   "execution_count": 6,
   "metadata": {},
   "outputs": [
    {
     "data": {
      "text/plain": [
       "0       21.049999\n",
       "1       26.292729\n",
       "2       20.400000\n",
       "3       20.260000\n",
       "4       20.900000\n",
       "          ...    \n",
       "3897    23.350000\n",
       "3898    22.790001\n",
       "3899    21.250000\n",
       "3900    23.139999\n",
       "3901    23.160000\n",
       "Name: Open, Length: 3902, dtype: float64"
      ]
     },
     "execution_count": 6,
     "metadata": {},
     "output_type": "execute_result"
    }
   ],
   "source": [
    "Nasdaq[\"Open\"].fillna(np.nanmean(Nasdaq[\"Open\"].values), inplace = True)\n",
    "Nasdaq[\"Open\"]"
   ]
  },
  {
   "cell_type": "markdown",
   "metadata": {},
   "source": [
    "•\tAdd new column and call it `` Diff_Open_close`` and is should contains the difference between open and close price"
   ]
  },
  {
   "cell_type": "code",
   "execution_count": 7,
   "metadata": {},
   "outputs": [],
   "source": [
    "Nasdaq['Diff_Open_close'] = pd.Series(Nasdaq[\"Open\"].values-Nasdaq[\"Close\"].values, index=Nasdaq.index)"
   ]
  },
  {
   "cell_type": "code",
   "execution_count": 8,
   "metadata": {},
   "outputs": [
    {
     "data": {
      "text/html": [
       "<div>\n",
       "<style scoped>\n",
       "    .dataframe tbody tr th:only-of-type {\n",
       "        vertical-align: middle;\n",
       "    }\n",
       "\n",
       "    .dataframe tbody tr th {\n",
       "        vertical-align: top;\n",
       "    }\n",
       "\n",
       "    .dataframe thead th {\n",
       "        text-align: right;\n",
       "    }\n",
       "</style>\n",
       "<table border=\"1\" class=\"dataframe\">\n",
       "  <thead>\n",
       "    <tr style=\"text-align: right;\">\n",
       "      <th></th>\n",
       "      <th>Date</th>\n",
       "      <th>Low</th>\n",
       "      <th>Open</th>\n",
       "      <th>Volume</th>\n",
       "      <th>High</th>\n",
       "      <th>Close</th>\n",
       "      <th>Adjusted Close</th>\n",
       "      <th>Diff_Open_close</th>\n",
       "    </tr>\n",
       "  </thead>\n",
       "  <tbody>\n",
       "    <tr>\n",
       "      <th>0</th>\n",
       "      <td>27-09-2005</td>\n",
       "      <td>19.100000</td>\n",
       "      <td>21.049999</td>\n",
       "      <td>961200</td>\n",
       "      <td>21.400000</td>\n",
       "      <td>19.299999</td>\n",
       "      <td>18.194910</td>\n",
       "      <td>1.750000</td>\n",
       "    </tr>\n",
       "    <tr>\n",
       "      <th>1</th>\n",
       "      <td>28-09-2005</td>\n",
       "      <td>19.200001</td>\n",
       "      <td>26.292729</td>\n",
       "      <td>5747900</td>\n",
       "      <td>20.530001</td>\n",
       "      <td>20.500000</td>\n",
       "      <td>19.326199</td>\n",
       "      <td>5.792729</td>\n",
       "    </tr>\n",
       "    <tr>\n",
       "      <th>2</th>\n",
       "      <td>29-09-2005</td>\n",
       "      <td>20.100000</td>\n",
       "      <td>20.400000</td>\n",
       "      <td>1078200</td>\n",
       "      <td>20.580000</td>\n",
       "      <td>20.209999</td>\n",
       "      <td>19.052801</td>\n",
       "      <td>0.190001</td>\n",
       "    </tr>\n",
       "    <tr>\n",
       "      <th>3</th>\n",
       "      <td>30-09-2005</td>\n",
       "      <td>20.180000</td>\n",
       "      <td>20.260000</td>\n",
       "      <td>3123300</td>\n",
       "      <td>21.049999</td>\n",
       "      <td>21.010000</td>\n",
       "      <td>19.806999</td>\n",
       "      <td>-0.750000</td>\n",
       "    </tr>\n",
       "    <tr>\n",
       "      <th>4</th>\n",
       "      <td>3/10/2005</td>\n",
       "      <td>20.900000</td>\n",
       "      <td>20.900000</td>\n",
       "      <td>1057900</td>\n",
       "      <td>21.750000</td>\n",
       "      <td>21.500000</td>\n",
       "      <td>20.268938</td>\n",
       "      <td>-0.600000</td>\n",
       "    </tr>\n",
       "    <tr>\n",
       "      <th>...</th>\n",
       "      <td>...</td>\n",
       "      <td>...</td>\n",
       "      <td>...</td>\n",
       "      <td>...</td>\n",
       "      <td>...</td>\n",
       "      <td>...</td>\n",
       "      <td>...</td>\n",
       "      <td>...</td>\n",
       "    </tr>\n",
       "    <tr>\n",
       "      <th>3897</th>\n",
       "      <td>23-03-2021</td>\n",
       "      <td>22.080000</td>\n",
       "      <td>23.350000</td>\n",
       "      <td>55290700</td>\n",
       "      <td>23.660000</td>\n",
       "      <td>22.270000</td>\n",
       "      <td>22.270000</td>\n",
       "      <td>1.080000</td>\n",
       "    </tr>\n",
       "    <tr>\n",
       "      <th>3898</th>\n",
       "      <td>24-03-2021</td>\n",
       "      <td>21.760000</td>\n",
       "      <td>22.790001</td>\n",
       "      <td>44703900</td>\n",
       "      <td>23.180000</td>\n",
       "      <td>21.809999</td>\n",
       "      <td>21.809999</td>\n",
       "      <td>0.980001</td>\n",
       "    </tr>\n",
       "    <tr>\n",
       "      <th>3899</th>\n",
       "      <td>25-03-2021</td>\n",
       "      <td>21.020000</td>\n",
       "      <td>21.250000</td>\n",
       "      <td>49746900</td>\n",
       "      <td>22.920000</td>\n",
       "      <td>22.770000</td>\n",
       "      <td>22.770000</td>\n",
       "      <td>-1.520000</td>\n",
       "    </tr>\n",
       "    <tr>\n",
       "      <th>3900</th>\n",
       "      <td>26-03-2021</td>\n",
       "      <td>22.280001</td>\n",
       "      <td>23.139999</td>\n",
       "      <td>36936000</td>\n",
       "      <td>23.290001</td>\n",
       "      <td>22.930000</td>\n",
       "      <td>22.930000</td>\n",
       "      <td>0.209999</td>\n",
       "    </tr>\n",
       "    <tr>\n",
       "      <th>3901</th>\n",
       "      <td>29-03-2021</td>\n",
       "      <td>22.400000</td>\n",
       "      <td>23.160000</td>\n",
       "      <td>15969544</td>\n",
       "      <td>23.184999</td>\n",
       "      <td>22.618299</td>\n",
       "      <td>22.618299</td>\n",
       "      <td>0.541700</td>\n",
       "    </tr>\n",
       "  </tbody>\n",
       "</table>\n",
       "<p>3902 rows × 8 columns</p>\n",
       "</div>"
      ],
      "text/plain": [
       "            Date        Low       Open    Volume       High      Close  \\\n",
       "0     27-09-2005  19.100000  21.049999    961200  21.400000  19.299999   \n",
       "1     28-09-2005  19.200001  26.292729   5747900  20.530001  20.500000   \n",
       "2     29-09-2005  20.100000  20.400000   1078200  20.580000  20.209999   \n",
       "3     30-09-2005  20.180000  20.260000   3123300  21.049999  21.010000   \n",
       "4      3/10/2005  20.900000  20.900000   1057900  21.750000  21.500000   \n",
       "...          ...        ...        ...       ...        ...        ...   \n",
       "3897  23-03-2021  22.080000  23.350000  55290700  23.660000  22.270000   \n",
       "3898  24-03-2021  21.760000  22.790001  44703900  23.180000  21.809999   \n",
       "3899  25-03-2021  21.020000  21.250000  49746900  22.920000  22.770000   \n",
       "3900  26-03-2021  22.280001  23.139999  36936000  23.290001  22.930000   \n",
       "3901  29-03-2021  22.400000  23.160000  15969544  23.184999  22.618299   \n",
       "\n",
       "      Adjusted Close  Diff_Open_close  \n",
       "0          18.194910         1.750000  \n",
       "1          19.326199         5.792729  \n",
       "2          19.052801         0.190001  \n",
       "3          19.806999        -0.750000  \n",
       "4          20.268938        -0.600000  \n",
       "...              ...              ...  \n",
       "3897       22.270000         1.080000  \n",
       "3898       21.809999         0.980001  \n",
       "3899       22.770000        -1.520000  \n",
       "3900       22.930000         0.209999  \n",
       "3901       22.618299         0.541700  \n",
       "\n",
       "[3902 rows x 8 columns]"
      ]
     },
     "execution_count": 8,
     "metadata": {},
     "output_type": "execute_result"
    }
   ],
   "source": [
    "Nasdaq"
   ]
  },
  {
   "cell_type": "markdown",
   "metadata": {},
   "source": [
    "•\tDrop all columns rather than date, open, and close"
   ]
  },
  {
   "cell_type": "code",
   "execution_count": 9,
   "metadata": {},
   "outputs": [],
   "source": [
    "Nasdaq.drop('Low', axis='columns', inplace=True)\n",
    "Nasdaq.drop('Volume', axis='columns', inplace=True)\n",
    "Nasdaq.drop('High', axis='columns', inplace=True)\n",
    "Nasdaq.drop('Adjusted Close', axis='columns', inplace=True)\n",
    "Nasdaq.drop('Diff_Open_close', axis='columns', inplace=True)"
   ]
  },
  {
   "cell_type": "code",
   "execution_count": 10,
   "metadata": {},
   "outputs": [
    {
     "data": {
      "text/html": [
       "<div>\n",
       "<style scoped>\n",
       "    .dataframe tbody tr th:only-of-type {\n",
       "        vertical-align: middle;\n",
       "    }\n",
       "\n",
       "    .dataframe tbody tr th {\n",
       "        vertical-align: top;\n",
       "    }\n",
       "\n",
       "    .dataframe thead th {\n",
       "        text-align: right;\n",
       "    }\n",
       "</style>\n",
       "<table border=\"1\" class=\"dataframe\">\n",
       "  <thead>\n",
       "    <tr style=\"text-align: right;\">\n",
       "      <th></th>\n",
       "      <th>Date</th>\n",
       "      <th>Open</th>\n",
       "      <th>Close</th>\n",
       "    </tr>\n",
       "  </thead>\n",
       "  <tbody>\n",
       "    <tr>\n",
       "      <th>0</th>\n",
       "      <td>27-09-2005</td>\n",
       "      <td>21.049999</td>\n",
       "      <td>19.299999</td>\n",
       "    </tr>\n",
       "    <tr>\n",
       "      <th>1</th>\n",
       "      <td>28-09-2005</td>\n",
       "      <td>26.292729</td>\n",
       "      <td>20.500000</td>\n",
       "    </tr>\n",
       "    <tr>\n",
       "      <th>2</th>\n",
       "      <td>29-09-2005</td>\n",
       "      <td>20.400000</td>\n",
       "      <td>20.209999</td>\n",
       "    </tr>\n",
       "    <tr>\n",
       "      <th>3</th>\n",
       "      <td>30-09-2005</td>\n",
       "      <td>20.260000</td>\n",
       "      <td>21.010000</td>\n",
       "    </tr>\n",
       "    <tr>\n",
       "      <th>4</th>\n",
       "      <td>3/10/2005</td>\n",
       "      <td>20.900000</td>\n",
       "      <td>21.500000</td>\n",
       "    </tr>\n",
       "    <tr>\n",
       "      <th>...</th>\n",
       "      <td>...</td>\n",
       "      <td>...</td>\n",
       "      <td>...</td>\n",
       "    </tr>\n",
       "    <tr>\n",
       "      <th>3897</th>\n",
       "      <td>23-03-2021</td>\n",
       "      <td>23.350000</td>\n",
       "      <td>22.270000</td>\n",
       "    </tr>\n",
       "    <tr>\n",
       "      <th>3898</th>\n",
       "      <td>24-03-2021</td>\n",
       "      <td>22.790001</td>\n",
       "      <td>21.809999</td>\n",
       "    </tr>\n",
       "    <tr>\n",
       "      <th>3899</th>\n",
       "      <td>25-03-2021</td>\n",
       "      <td>21.250000</td>\n",
       "      <td>22.770000</td>\n",
       "    </tr>\n",
       "    <tr>\n",
       "      <th>3900</th>\n",
       "      <td>26-03-2021</td>\n",
       "      <td>23.139999</td>\n",
       "      <td>22.930000</td>\n",
       "    </tr>\n",
       "    <tr>\n",
       "      <th>3901</th>\n",
       "      <td>29-03-2021</td>\n",
       "      <td>23.160000</td>\n",
       "      <td>22.618299</td>\n",
       "    </tr>\n",
       "  </tbody>\n",
       "</table>\n",
       "<p>3902 rows × 3 columns</p>\n",
       "</div>"
      ],
      "text/plain": [
       "            Date       Open      Close\n",
       "0     27-09-2005  21.049999  19.299999\n",
       "1     28-09-2005  26.292729  20.500000\n",
       "2     29-09-2005  20.400000  20.209999\n",
       "3     30-09-2005  20.260000  21.010000\n",
       "4      3/10/2005  20.900000  21.500000\n",
       "...          ...        ...        ...\n",
       "3897  23-03-2021  23.350000  22.270000\n",
       "3898  24-03-2021  22.790001  21.809999\n",
       "3899  25-03-2021  21.250000  22.770000\n",
       "3900  26-03-2021  23.139999  22.930000\n",
       "3901  29-03-2021  23.160000  22.618299\n",
       "\n",
       "[3902 rows x 3 columns]"
      ]
     },
     "execution_count": 10,
     "metadata": {},
     "output_type": "execute_result"
    }
   ],
   "source": [
    "Nasdaq"
   ]
  },
  {
   "cell_type": "markdown",
   "metadata": {},
   "source": [
    "•\tUse scatter diagram to show the relationship between, open, and close"
   ]
  },
  {
   "cell_type": "code",
   "execution_count": 11,
   "metadata": {},
   "outputs": [
    {
     "data": {
      "image/png": "[encoded data removed]",
      "text/plain": [
       "<Figure size 432x288 with 1 Axes>"
      ]
     },
     "metadata": {
      "needs_background": "light"
     },
     "output_type": "display_data"
    }
   ],
   "source": [
    "plt.scatter(Nasdaq[\"Open\"].values,Nasdaq[\"Close\"].values)\n",
    "plt.title(\"Relationship between open and close\")\n",
    "plt.xlabel(\"Open\")\n",
    "plt.ylabel(\"Close\")\n",
    "plt.show()"
   ]
  },
  {
   "cell_type": "markdown",
   "metadata": {},
   "source": [
    "•Implement  a linear regression model to predict the close value depending on open value"
   ]
  },
  {
   "cell_type": "code",
   "execution_count": 15,
   "metadata": {},
   "outputs": [
    {
     "data": {
      "text/plain": [
       "array([[21.04999924],\n",
       "       [26.29272916],\n",
       "       [20.39999962],\n",
       "       ...,\n",
       "       [21.25      ],\n",
       "       [23.13999939],\n",
       "       [23.15999985]])"
      ]
     },
     "execution_count": 15,
     "metadata": {},
     "output_type": "execute_result"
    }
   ],
   "source": [
    "open_reshaped = Nasdaq[\"Open\"].values.reshape(-1,1)\n",
    "open_reshaped"
   ]
  },
  {
   "cell_type": "code",
   "execution_count": 16,
   "metadata": {},
   "outputs": [
    {
     "data": {
      "text/plain": [
       "array([[19.29999924],\n",
       "       [20.5       ],\n",
       "       [20.20999908],\n",
       "       ...,\n",
       "       [22.77000046],\n",
       "       [22.93000031],\n",
       "       [22.61829948]])"
      ]
     },
     "execution_count": 16,
     "metadata": {},
     "output_type": "execute_result"
    }
   ],
   "source": [
    "close_reshaped = Nasdaq[\"Close\"].values.reshape(-1,1)\n",
    "close_reshaped"
   ]
  },
  {
   "cell_type": "code",
   "execution_count": 17,
   "metadata": {},
   "outputs": [
    {
     "data": {
      "text/plain": [
       "LinearRegression()"
      ]
     },
     "execution_count": 17,
     "metadata": {},
     "output_type": "execute_result"
    }
   ],
   "source": [
    "from sklearn.linear_model import LinearRegression\n",
    "model = LinearRegression()\n",
    "model.fit(open_reshaped, close_reshaped)"
   ]
  },
  {
   "cell_type": "code",
   "execution_count": 18,
   "metadata": {},
   "outputs": [
    {
     "name": "stdout",
     "output_type": "stream",
     "text": [
      "intercept: [-0.00942942]\n",
      "slope: [[0.99899948]]\n"
     ]
    }
   ],
   "source": [
    "print('intercept:', model.intercept_)\n",
    "\n",
    "print('slope:', model.coef_)"
   ]
  },
  {
   "cell_type": "code",
   "execution_count": 19,
   "metadata": {},
   "outputs": [
    {
     "data": {
      "text/plain": [
       "array([[19.97056024]])"
      ]
     },
     "execution_count": 19,
     "metadata": {},
     "output_type": "execute_result"
    }
   ],
   "source": [
    "new_open=np.array([20]).reshape(-1,1)\n",
    "prediction_close = model.predict(new_open)\n",
    "prediction_close"
   ]
  },
  {
   "cell_type": "markdown",
   "metadata": {},
   "source": [
    "•\t Show the goodness of your results using R2"
   ]
  },
  {
   "cell_type": "code",
   "execution_count": 21,
   "metadata": {},
   "outputs": [
    {
     "name": "stdout",
     "output_type": "stream",
     "text": [
      "Coefficients: \n",
      " [[0.99809093]]\n",
      "Variance score: 0.9978434235768149\n"
     ]
    }
   ],
   "source": [
    "from sklearn import datasets, linear_model, metrics  \n",
    "from sklearn.model_selection import train_test_split \n",
    "X_train, X_test, y_train, y_test = train_test_split(open_reshaped, close_reshaped, test_size=0.25, random_state=1)\n",
    "\n",
    "reg = linear_model.LinearRegression() \n",
    "\n",
    "reg.fit(X_train, y_train) \n",
    "\n",
    "print('Coefficients: \\n', reg.coef_) \n",
    "\n",
    "print('Variance score: {}'.format(reg.score(X_test, y_test))) # R squere error"
   ]
  }
 ],
 "metadata": {
  "kernelspec": {
   "display_name": "Python 3",
   "language": "python",
   "name": "python3"
  },
  "language_info": {
   "codemirror_mode": {
    "name": "ipython",
    "version": 3
   },
   "file_extension": ".py",
   "mimetype": "text/x-python",
   "name": "python",
   "nbconvert_exporter": "python",
   "pygments_lexer": "ipython3",
   "version": "3.8.5"
  }
 },
 "nbformat": 4,
 "nbformat_minor": 4
}
